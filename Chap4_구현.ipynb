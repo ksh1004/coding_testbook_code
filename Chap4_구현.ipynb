{
  "nbformat": 4,
  "nbformat_minor": 0,
  "metadata": {
    "colab": {
      "provenance": [],
      "authorship_tag": "ABX9TyMkNI1nIRs6xhjjGV9Sn8QJ"
    },
    "kernelspec": {
      "name": "python3",
      "display_name": "Python 3"
    },
    "language_info": {
      "name": "python"
    }
  },
  "cells": [
    {
      "cell_type": "markdown",
      "source": [
        "## 구현"
      ],
      "metadata": {
        "id": "oaTJRZ66sSri"
      }
    },
    {
      "cell_type": "markdown",
      "source": [
        "예제 4-1 상하좌우 (난이도 하)"
      ],
      "metadata": {
        "id": "rcDlXHl6stuW"
      }
    },
    {
      "cell_type": "markdown",
      "source": [
        "여행가 A는 N x N 크기의 정사각형 공간 위에 서 있다. 가장 왼쪽 위 좌표는 (1, 1)이며, 가장 오른쪽 좌표는 (N, N)에 해당한다. 여행가 A는 상, 하, 좌, 우 방향으로 이동할 수 있으며, 시작 좌표는 항상 (1, 1)이다. 계획서에는 L, R, U, D 중 하나의 문자가 반복적으로 적혀 있다. "
      ],
      "metadata": {
        "id": "3mqdqRPas6Bu"
      }
    },
    {
      "cell_type": "code",
      "source": [
        "# -*- coding: utf-8 -*-\n",
        "N = int(input()) # 공간의 크기\n",
        "plan = input() # 계획서\n",
        "plan.replace(' ', '')\n",
        "x, y = 1, 1 # 좌표\n",
        "\n",
        "for i in range(0, len(plan)):\n",
        "\tif plan[i] == 'L':\n",
        "\t\tif y == 1:\n",
        "\t\t\tcontinue\n",
        "\t\telse:\n",
        "\t\t\ty -= 1\n",
        "\telif plan[i] == 'R':\n",
        "\t\tif y == N:\n",
        "\t\t\tcontinue\n",
        "\t\telse:\n",
        "\t\t\ty += 1\n",
        "\telif plan[i] == 'U':\n",
        "\t\tif x == 1:\n",
        "\t\t\tcontinue\n",
        "\t\telse:\n",
        "\t\t\tx -= 1\n",
        "\telif plan[i] == 'D':\n",
        "\t\tif x == N:\n",
        "\t\t\tcontinue\n",
        "\t\telse:\n",
        "\t\t\tx += 1\n",
        "\n",
        "print(x, y)"
      ],
      "metadata": {
        "id": "uQIrOaY5suCw"
      },
      "execution_count": null,
      "outputs": []
    },
    {
      "cell_type": "markdown",
      "source": [
        "예제 4-2 시각 (난이도 하)"
      ],
      "metadata": {
        "id": "56ZXP7nPs_zq"
      }
    },
    {
      "cell_type": "markdown",
      "source": [
        "정수 N이 입력되면 00시 00분 00초부터 N시 59분 59초까지의 모든 시작 중에서 3이 하나라도 포함되는 모든 경우의 수를 구하는 프로그램을 작성하시오"
      ],
      "metadata": {
        "id": "RIiqfPirtCv5"
      }
    },
    {
      "cell_type": "code",
      "source": [
        "# -*- coding: utf-8 -*-\n",
        "N = int(input())\n",
        "count = 0\n",
        "\n",
        "for i in range(0, N + 1):\n",
        "\tfor j in range(0, 60):\n",
        "\t\tfor k in range(0, 60):\n",
        "\t\t\tif '3' in str(i) + str(j) + str(k):\n",
        "\t\t\t\tcount += 1\n",
        "\n",
        "print(count)"
      ],
      "metadata": {
        "id": "MDTEJiPBtJHT"
      },
      "execution_count": null,
      "outputs": []
    },
    {
      "cell_type": "markdown",
      "source": [
        "예제 4-3 왕실의 나이트 (난이도 하)"
      ],
      "metadata": {
        "id": "fnIIQBpHtHeI"
      }
    },
    {
      "cell_type": "markdown",
      "source": [
        "행복 왕국의 왕실 정원은 체스판과 같은 8 x 8 좌표 평면이다. 왕실 정원의 특정한 한 칸에 나이트가 서 있다. 나이트는 매우 충성스러운 신하로서 매일 무술을 연마한다. 나이트는 말을 타고 있기 때문에 이동을 할 때는 L자 형태로만 이동할 수 있으며 정원 밖으로는 나갈 수 없다. 나이트는 특정한 위치에서 다음과 같은 2가지 경우로 이동할 수 있다."
      ],
      "metadata": {
        "id": "HQJVJxz6tLzK"
      }
    },
    {
      "cell_type": "code",
      "source": [
        "# -*- coding: utf-8 \n",
        "location = input()\n",
        "x_location = location[0] # x좌표\n",
        "y_location = int(location[1]) # y좌표\n",
        "move_list = [(-2, -1), (-2, 1), (-1, -2), (-1, 2), (1, -2), (1, 2), (2, -1), (2, 1)]\n",
        "count = 0\n",
        "for i in range(len(move_list)):\n",
        "\tif (ord(x_location) - move_list[i][0] < 97) or (ord(x_location) + move_list[i][0] > 104): # x좌표가 범위를 넘어가는 경우\n",
        "\t\tcontinue\n",
        "\telif (y_location - move_list[i][1] < 1) or (y_location + move_list[i][1] > 8): # y좌표가 범위를 넘어가는 경우\n",
        "\t\tcontinue\n",
        "\telse:\n",
        "\t\tcount += 1\n",
        "\n",
        "print(count)"
      ],
      "metadata": {
        "id": "51iplslTtQFc"
      },
      "execution_count": null,
      "outputs": []
    },
    {
      "cell_type": "markdown",
      "source": [
        "실전 Q07. 럭키 스트레이트 (난이도 하)"
      ],
      "metadata": {
        "id": "OE__lGEnscNX"
      }
    },
    {
      "cell_type": "markdown",
      "source": [
        "현재 점수 N이 주어지면 럭키 스트레이트를 사용할 수 있는 상태인지 아닌지를 알려주는 프로그램을 작성하시오."
      ],
      "metadata": {
        "id": "QVHpF2eIsl_f"
      }
    },
    {
      "cell_type": "code",
      "execution_count": null,
      "metadata": {
        "id": "32NN9yXQriG5"
      },
      "outputs": [],
      "source": [
        "# -*- coding: utf-8 \n",
        "N = input()\n",
        "left_value = N[0:(len(N) // 2)]\n",
        "right_value = N[(len(N) // 2):]\n",
        "\n",
        "sum1, sum2 = 0, 0\n",
        "\n",
        "for i in range(0, (len(N) // 2)):\n",
        "\tsum1 += int(left_value[i])\n",
        "\tsum2 += int(right_value[i])\n",
        "\n",
        "if sum1 == sum2:\n",
        "\tprint('LUCKY')\n",
        "else:\n",
        "\tprint('READY')"
      ]
    },
    {
      "cell_type": "markdown",
      "source": [
        "실전 Q08. 문자열 재정렬 (난이도 하)"
      ],
      "metadata": {
        "id": "YcJY1oWj6bnJ"
      }
    },
    {
      "cell_type": "markdown",
      "source": [
        "알파벳 대문자와 숫자(0~9)로만 구성된 문자열이 입력으로 주어진다. 이때 모든 알파벳을 오름차순으로 정렬하여 이어서 출력한 뒤에, 그 뒤에 모든 숫자를 더한 값을 이어서 출력한다."
      ],
      "metadata": {
        "id": "mleCQX8-6bAy"
      }
    },
    {
      "cell_type": "code",
      "source": [
        "# -*- coding: utf-8 \n",
        "N = input()\n",
        "N = sorted(N)\n",
        "literal_start_number = 0\n",
        "for i in range(len(N)):\n",
        "\tif ord(N[i]) >= 48 and ord(N[i]) <= 57:\n",
        "\t\tN[i] = int(N[i])\n",
        "\telse:\n",
        "\t\tliteral_start_number = i\n",
        "\t\tbreak\n",
        "number_sum = 0\n",
        "literal = ''\n",
        "\n",
        "for i in range(literal_start_number, len(N)):\n",
        "\tliteral += N[i]\n",
        "\n",
        "for i in range(0, literal_start_number):\n",
        "\tnumber_sum += N[i]\n",
        "\n",
        "if number_sum != 0:\n",
        "\tliteral += str(number_sum)\n",
        "\n",
        "print(literal)"
      ],
      "metadata": {
        "id": "9kEtIjcJ6h7r"
      },
      "execution_count": null,
      "outputs": []
    }
  ]
}