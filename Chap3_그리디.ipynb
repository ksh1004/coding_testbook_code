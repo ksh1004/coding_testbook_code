{
  "nbformat": 4,
  "nbformat_minor": 0,
  "metadata": {
    "colab": {
      "provenance": [],
      "authorship_tag": "ABX9TyMisb+b/c4x1UhWge0QB+Y+"
    },
    "kernelspec": {
      "name": "python3",
      "display_name": "Python 3"
    },
    "language_info": {
      "name": "python"
    }
  },
  "cells": [
    {
      "cell_type": "markdown",
      "source": [
        "# 그리디 알고리즘"
      ],
      "metadata": {
        "id": "WLO4DQhdt3X9"
      }
    },
    {
      "cell_type": "markdown",
      "source": [
        "예제 1. 거스름돈 (난이도 하)"
      ],
      "metadata": {
        "id": "MGOXKVZ1uDo5"
      }
    },
    {
      "cell_type": "markdown",
      "source": [
        "거슬러 줘야 할 돈이 N원일 때 거슬러줘야 할 동전의 최소 갯수를 구하라. "
      ],
      "metadata": {
        "id": "c4AobtOzYn5F"
      }
    },
    {
      "cell_type": "code",
      "source": [
        "# -*- coding: utf-8 -*- \n",
        "money = int(input()) \n",
        "count = 0 \n",
        "# 500원의 갯수\n",
        "count += int(money / 500) \n",
        "money = money % 500 \n",
        "# 100원의 갯수 \n",
        "count += int(money / 100) \n",
        "money = money % 100 \n",
        "#50원의 갯수 \n",
        "count += int(money / 50) \n",
        "money = money % 50 \n",
        "#10원의 갯수 \n",
        "count += int(money / 10) \n",
        "money = money % 10 \n",
        "# 갯수 출력 \n",
        "print(\"동전 갯수: \" + str(count)) \n",
        "print(\"잔액: \" + str(money))"
      ],
      "metadata": {
        "colab": {
          "base_uri": "https://localhost:8080/"
        },
        "id": "MKI2eBE5uO6k",
        "outputId": "7b701bc2-cfff-46cc-e772-75692826af91"
      },
      "execution_count": null,
      "outputs": [
        {
          "output_type": "stream",
          "name": "stdout",
          "text": [
            "5200\n",
            "동전 갯수: 12\n",
            "잔액: 0\n"
          ]
        }
      ]
    },
    {
      "cell_type": "markdown",
      "source": [
        "예제 2. 큰 수의 법칙 (난이도 하)"
      ],
      "metadata": {
        "id": "DfD-YrAaX4ga"
      }
    },
    {
      "cell_type": "markdown",
      "source": [
        "다양한 수로 이루어진 배열이 있을 때 주어진 수들을 M번 더하여 가장 큰 수를 만드는 법칙이다.\n",
        "단, 배열의 특정한 인덱스(번호)에 해당하는 수가 연속해서 K번을 초과하여 더할 수 없는 것이 특징이다.\n",
        "배열의 크기 N, 숫자가 더해지는 횟수 M, 그리고 K가 주어질 때 큰 수의 법칙에 따른 결과를 출력하시오."
      ],
      "metadata": {
        "id": "kBblCOQuYqop"
      }
    },
    {
      "cell_type": "code",
      "source": [
        "# -*- coding: utf-8 -*-\n",
        "N, M, K = map(int, input().split())\n",
        "data = list(map(int, input().split()))\n",
        "total = 0 # 총합\n",
        "\n",
        "count = K # for문에서 사용할 변수(가장 큰 숫자가 더해지는 횟수(K)를 카운트)\n",
        "\n",
        "data.sort(reverse=True)\n",
        "for i in range(0, M):\n",
        "\tif count == 0: # count가 0이면\n",
        "\t\ttotal += data[1] # 두 번째로 큰 수를 더한다.\n",
        "\t\tcount = K # 카운트 초기화\n",
        "\t\tcontinue\n",
        "\telse:\n",
        "\t\ttotal += data[0] # 가장 큰 수를 더한다.\n",
        "\t\tcount -= 1 # 카운트 감소\n",
        "\n",
        "print(total) # 총합 출력"
      ],
      "metadata": {
        "colab": {
          "base_uri": "https://localhost:8080/"
        },
        "id": "PLgjzrwbYESF",
        "outputId": "f16b49ac-c72f-4351-8a1e-68b7d1ec623f"
      },
      "execution_count": null,
      "outputs": [
        {
          "output_type": "stream",
          "name": "stdout",
          "text": [
            "5 8 3\n",
            "2 4 5 4 6\n",
            "46\n"
          ]
        }
      ]
    },
    {
      "cell_type": "markdown",
      "source": [
        "예제 3. 숫자 카드 게임(난이도 하)"
      ],
      "metadata": {
        "id": "ZI_c8w8uYU0N"
      }
    },
    {
      "cell_type": "markdown",
      "source": [
        "숫자 카드 게임은 여러 개의 숫자 카드 중 가장 높은 숫자가 쓰인 카드 한 장을 뽑는 게임이다.\n",
        "숫자가 쓰인 카드들이 N x M 형태로 놓여 있다. 이때 N은 행의 갯수를, M은 열의 갯수를 의미한다."
      ],
      "metadata": {
        "id": "w5GuqEHgYsSC"
      }
    },
    {
      "cell_type": "code",
      "source": [
        "# -*- coding: utf-8 -*-\n",
        "N, M= map(int, input().split())\n",
        "li = [] # 숫자들을 모아놓는 리스트\n",
        "for i in range(0, N):\n",
        "\tdata = list(map(int, input().split())) # 각 행의 숫자 값을 한번에 입력받는다.\n",
        "\tdata.sort() # 정렬을 미리 해놓는다.\n",
        "\tli.append(data) \n",
        "\n",
        "max_value = li[0][0] # 첫 번째 행에서 가장 작은 값으로 초기값 설정\n",
        "for i in range(1, N):\n",
        "\tif max_value < li[i][0]: # i번째 행의 가장 작은 값이 max_value보다 크면\n",
        "\t\tmax_value = li[i][0] # max_value 값 변경\n",
        "\n",
        "print(max_value) # 출력"
      ],
      "metadata": {
        "colab": {
          "base_uri": "https://localhost:8080/"
        },
        "id": "QWFlU893Yevk",
        "outputId": "9a5da195-ea0f-40ef-a360-36630eb92c8c"
      },
      "execution_count": null,
      "outputs": [
        {
          "output_type": "stream",
          "name": "stdout",
          "text": [
            "2 4\n",
            "7 3 1 8\n",
            "3 3 3 4\n",
            "3\n"
          ]
        }
      ]
    },
    {
      "cell_type": "markdown",
      "source": [
        "예제 4. 1이 될 때까지(난이도 하)"
      ],
      "metadata": {
        "id": "w6kZxeBPYula"
      }
    },
    {
      "cell_type": "markdown",
      "source": [
        "N과 K가 주어질 때 N이 1이 될 때까지 1번 혹은 2번의 과정을 수행해야 하는 최소 횟수를 구하는 프로그램을 작성하시오.\n",
        "1. N에서 1을 뺀다.\n",
        "2. N을 K로 나눈다."
      ],
      "metadata": {
        "id": "9C8PM60MY1A3"
      }
    },
    {
      "cell_type": "code",
      "source": [
        "# -*- coding: utf-8 -*-\n",
        "N, K = map(int, input().split())\n",
        "count = 0 # 횟수\n",
        "\n",
        "while(N != 1): # N 값이 1이 될 때까지 반복\n",
        "\tif N % K == 0: # 나누어 떨어지면\n",
        "\t\tN = N // K # N을 K로 나누고\n",
        "\t\tcount += 1 # 카운트 증가\n",
        "\telse: # 나누어 떨어지지 않으면\n",
        "\t\tN = N - 1 # 1만큼 빼고\n",
        "\t\tcount += 1 # 카운트 증가\n",
        "\n",
        "print(count) # 출력"
      ],
      "metadata": {
        "colab": {
          "base_uri": "https://localhost:8080/"
        },
        "id": "zutBAwvAYuQU",
        "outputId": "7e8b17f6-e6e3-42bc-ebf7-7ecbb3f6b300"
      },
      "execution_count": null,
      "outputs": [
        {
          "output_type": "stream",
          "name": "stdout",
          "text": [
            "25 5\n",
            "2\n"
          ]
        }
      ]
    },
    {
      "cell_type": "markdown",
      "source": [
        "실전 Q01. 모험가 길드 (난이도 하)"
      ],
      "metadata": {
        "id": "YLgL6gmsY9ia"
      }
    },
    {
      "cell_type": "markdown",
      "source": [
        "N명의 모험가에 대한 정보가 주어질 때, 여행을 떠날 수 있는 그룹 수의 최댓값을 구하라."
      ],
      "metadata": {
        "id": "ZZxj8jvLY_cq"
      }
    },
    {
      "cell_type": "code",
      "source": [
        "# -*- coding: utf-8 \n",
        "num = int(input())\n",
        "li = list(map(int, input().split()))\n",
        "li.sort()\n",
        "group_count = 0 # 그룹 숫자\n",
        "scare_count = 0 # 공포도\n",
        "for i in li:\n",
        "\tscare_count += 1\n",
        "\tif scare_count == i: # 그룹 인원이 다 채워지면\n",
        "\t\tgroup_count += 1\n",
        "\t\tscare_count = 0\n",
        "\n",
        "print(group_count)"
      ],
      "metadata": {
        "colab": {
          "base_uri": "https://localhost:8080/"
        },
        "id": "1h7qiVShZBBP",
        "outputId": "300104af-9610-45b2-905c-c5bb3a44b5ff"
      },
      "execution_count": null,
      "outputs": [
        {
          "output_type": "stream",
          "name": "stdout",
          "text": [
            "5\n",
            "2 3 1 2 2\n",
            "2\n"
          ]
        }
      ]
    },
    {
      "cell_type": "markdown",
      "source": [
        "실전 Q02. 곱하기 혹은 더하기 (난이도 하)"
      ],
      "metadata": {
        "id": "tqbfBkCxZILY"
      }
    },
    {
      "cell_type": "markdown",
      "source": [
        "각 자리가 숫자 0~9로만 이루어진 문자열 S가 있을 때, 왼쪽부터 오른쪽으로 하나씩 모든 숫자를 확인하여 숫자 사이에 x 또는 + 연산자를 넣어 결과적으로 만들어질 수 있는 가장 큰 수를 구하는 프로그램을 작성하라. 단, +보다 x를 먼저 계산하는 일반적인 방식과는 달리, 모든 연산은 왼쪽에서부터 순서대로 이루어진다고 가정한다."
      ],
      "metadata": {
        "id": "ArvDbLSvZLtW"
      }
    },
    {
      "cell_type": "code",
      "source": [
        "# -*- coding: utf-8 \n",
        "num = input()\n",
        "sum = 0 # 가장 큰 수를 저장할 변수\n",
        "\n",
        "for i in range(0, len(num)):\n",
        "\tif int(num[i]) == 0 or sum == 0: # 해당 숫자가 0이거나 총합의 값이 0인 경우\n",
        "\t\tsum += int(num[i]) # 더하기 연산\n",
        "\telse: # 나머지의 경우\n",
        "\t\tsum *= int(num[i]) # 곱하기 연산\n",
        "\n",
        "print(sum)"
      ],
      "metadata": {
        "colab": {
          "base_uri": "https://localhost:8080/"
        },
        "id": "upa5BF_-ZPHG",
        "outputId": "e01f317a-0f1f-4570-ffbd-a65ef2842368"
      },
      "execution_count": null,
      "outputs": [
        {
          "output_type": "stream",
          "name": "stdout",
          "text": [
            "02984\n",
            "576\n"
          ]
        }
      ]
    },
    {
      "cell_type": "markdown",
      "source": [
        "실전 Q03. 문자열 뒤집기 (난이도 하)"
      ],
      "metadata": {
        "id": "Dx4QWn-lZVmF"
      }
    },
    {
      "cell_type": "markdown",
      "source": [
        "0과 1로만 이루어진 문자열 S를 가지고 있습니다. 이 문자열 S에 있는 모든 숫자를 전부 같게 만드는 최소 횟수를 출력하시오."
      ],
      "metadata": {
        "id": "rFtZNCz_ZXlU"
      }
    },
    {
      "cell_type": "code",
      "source": [
        "# -*- coding: utf-8 \n",
        "num = input()\n",
        "count1, count2 = 0, 0 # count1은 0을 1로 바꾸는 횟수, count2는 1을 0으로 바꾸는 횟수\n",
        "for i in range(len(num)):\n",
        "\tif num[i] == '0': # 0을 1로 바꿀 때\n",
        "\t\tif i == 0 or num[i - 1] == '1': # 첫 번째 숫자가 0으로 시작되거나 직전의 값이 1일 경우\n",
        "\t\t\tcount1 += 1 # 바꾼 횟수를 증가시킨다.\n",
        "\t\telse: # 지난 번 숫자가 0인 경우 \n",
        "\t\t\tcontinue # 연속된 숫자이므로 그대로 이어간다. (횟수 증가 없이 뒤집으면 된다)\n",
        "\telif num[i] == '1': # 1을 0으로 바꿀 때\n",
        "\t\tif i == 0 or num[i - 1] == '0': # 첫 번째 숫자가 1이거나 직전의 값이 0일 경우\n",
        "\t\t\tcount2 += 1 # 바꾼 횟수를 증가시킨다.\n",
        "\t\telse: # 지난 번 숫자가 1인 경우\n",
        "\t\t\tcontinue # 연속된 숫자이므로 그대로 이어간다. (횟수 증가 없이 뒤집으면 된다)\n",
        "\n",
        "print(min(count1, count2))"
      ],
      "metadata": {
        "colab": {
          "base_uri": "https://localhost:8080/"
        },
        "id": "_DIY0g91ZgrJ",
        "outputId": "bd6aa8d7-68c3-464f-a9c0-5db8d3532dfb"
      },
      "execution_count": null,
      "outputs": [
        {
          "output_type": "stream",
          "name": "stdout",
          "text": [
            "0001100\n",
            "1\n"
          ]
        }
      ]
    },
    {
      "cell_type": "markdown",
      "source": [
        "Q04. 만들 수 없는 금액 (난이도 하)"
      ],
      "metadata": {
        "id": "z9szldi6ZlF_"
      }
    },
    {
      "cell_type": "markdown",
      "source": [
        "N개의 동전을 이용하여 만들 수 없는 양의 정수 금액 중 최솟값을 구하는 프로그램을 작성하시오."
      ],
      "metadata": {
        "id": "t-l90sO4ZmPx"
      }
    },
    {
      "cell_type": "code",
      "source": [
        "# -*- coding: utf-8 \n",
        "N = int(input())\n",
        "li = list(map(int, input().split()))\n",
        "li.sort()\n",
        "\n",
        "target = 1\n",
        "for i in li:\n",
        "\tif target < i:\n",
        "\t\tbreak\n",
        "\ttarget += i\n",
        "\n",
        "print(target)"
      ],
      "metadata": {
        "colab": {
          "base_uri": "https://localhost:8080/"
        },
        "id": "sYpFYlVsZorM",
        "outputId": "94a4ab65-b0ee-48ec-c19a-4d23e9337d4b"
      },
      "execution_count": null,
      "outputs": [
        {
          "output_type": "stream",
          "name": "stdout",
          "text": [
            "5\n",
            "3 2 1 1 9\n",
            "8\n"
          ]
        }
      ]
    },
    {
      "cell_type": "markdown",
      "source": [
        "실전 Q05. 볼링공 고르기 (난이도 하)"
      ],
      "metadata": {
        "id": "GoNugDQuSIRP"
      }
    },
    {
      "cell_type": "markdown",
      "source": [
        "N개의 공의 무게가 각각 주어질 때, 두 사람이 볼링공을 고르는 경우의 수를 구하는 프로그램을 작성하시오."
      ],
      "metadata": {
        "id": "HSTk2IFDSKOm"
      }
    },
    {
      "cell_type": "code",
      "source": [
        "# -*- coding: utf-8 \n",
        "N, M = map(int, input().split())\n",
        "weight_list = list(map(int, input().split()))\n",
        "count = 0\n",
        "for i in range(0, len(weight_list) - 1):\n",
        "\tfirst_weight = weight_list[i]\n",
        "\tfor j in range(i + 1, len(weight_list)):\n",
        "\t\tsecond_weight = weight_list[j]\n",
        "\t\tif first_weight != second_weight:\n",
        "\t\t\tcount += 1\n",
        "\n",
        "print(count)"
      ],
      "metadata": {
        "colab": {
          "base_uri": "https://localhost:8080/"
        },
        "id": "5C7xjGuUSNTU",
        "outputId": "2b934b71-67ee-4dd4-a1fe-a34bd0276d3a"
      },
      "execution_count": null,
      "outputs": [
        {
          "output_type": "stream",
          "name": "stdout",
          "text": [
            "5 3\n",
            "1 3 2 3 2\n",
            "8\n"
          ]
        }
      ]
    }
  ]
}