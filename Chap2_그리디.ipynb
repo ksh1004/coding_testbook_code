{
  "nbformat": 4,
  "nbformat_minor": 0,
  "metadata": {
    "colab": {
      "provenance": [],
      "authorship_tag": "ABX9TyOdjxoVnjtsspFR2y2EdlZK",
      "include_colab_link": true
    },
    "kernelspec": {
      "name": "python3",
      "display_name": "Python 3"
    },
    "language_info": {
      "name": "python"
    }
  },
  "cells": [
    {
      "cell_type": "markdown",
      "metadata": {
        "id": "view-in-github",
        "colab_type": "text"
      },
      "source": [
        "<a href=\"https://colab.research.google.com/github/ksh1004/coding_testbook_code/blob/main/Chap2_%EA%B7%B8%EB%A6%AC%EB%94%94.ipynb\" target=\"_parent\"><img src=\"https://colab.research.google.com/assets/colab-badge.svg\" alt=\"Open In Colab\"/></a>"
      ]
    },
    {
      "cell_type": "markdown",
      "source": [
        "# 그리디 알고리즘"
      ],
      "metadata": {
        "id": "WLO4DQhdt3X9"
      }
    },
    {
      "cell_type": "markdown",
      "source": [
        "예제1. 거스름돈 (난이도 하)"
      ],
      "metadata": {
        "id": "MGOXKVZ1uDo5"
      }
    },
    {
      "cell_type": "code",
      "execution_count": null,
      "metadata": {
        "id": "1Tvx1znAt0hG"
      },
      "outputs": [],
      "source": [
        "거슬러 줘야 할 돈이 N원일 때 거슬러줘야 할 동전의 최소 갯수를 구하라. "
      ]
    },
    {
      "cell_type": "code",
      "source": [
        "# -*- coding: utf-8 -*- \n",
        "money = int(input()) \n",
        "count = 0 \n",
        "# 500원의 갯수\n",
        "count += int(money / 500) \n",
        "money = money % 500 \n",
        "# 100원의 갯수 \n",
        "count += int(money / 100) \n",
        "money = money % 100 \n",
        "#50원의 갯수 \n",
        "count += int(money / 50) \n",
        "money = money % 50 \n",
        "#10원의 갯수 \n",
        "count += int(money / 10) \n",
        "money = money % 10 \n",
        "# 갯수 출력 \n",
        "print(\"동전 갯수: \" + str(count)) \n",
        "print(\"잔액: \" + str(money))"
      ],
      "metadata": {
        "colab": {
          "base_uri": "https://localhost:8080/"
        },
        "id": "MKI2eBE5uO6k",
        "outputId": "7b701bc2-cfff-46cc-e772-75692826af91"
      },
      "execution_count": null,
      "outputs": [
        {
          "output_type": "stream",
          "name": "stdout",
          "text": [
            "5200\n",
            "동전 갯수: 12\n",
            "잔액: 0\n"
          ]
        }
      ]
    }
  ]
}